{
  "nbformat": 4,
  "nbformat_minor": 0,
  "metadata": {
    "colab": {
      "provenance": [],
      "authorship_tag": "ABX9TyMeXJ5cKIpGhdiPJA2za6++",
      "include_colab_link": true
    },
    "kernelspec": {
      "name": "python3",
      "display_name": "Python 3"
    },
    "language_info": {
      "name": "python"
    }
  },
  "cells": [
    {
      "cell_type": "markdown",
      "metadata": {
        "id": "view-in-github",
        "colab_type": "text"
      },
      "source": [
        "<a href=\"https://colab.research.google.com/github/ravivishnu6/codsoft-internship/blob/main/Untitled0.ipynb\" target=\"_parent\"><img src=\"https://colab.research.google.com/assets/colab-badge.svg\" alt=\"Open In Colab\"/></a>"
      ]
    },
    {
      "cell_type": "code",
      "source": [
        "# prompt:  Generate TIC-TAC-TOE  game\n",
        "\n",
        "def print_board(board):\n",
        "  \"\"\"Prints the Tic-Tac-Toe board.\"\"\"\n",
        "  for row in board:\n",
        "    print(\" | \".join(row))\n",
        "    print(\"-\" * 9)\n",
        "\n",
        "def check_win(board, player):\n",
        "  \"\"\"Checks if the given player has won the game.\"\"\"\n",
        "  # Check rows\n",
        "  for row in board:\n",
        "    if all(cell == player for cell in row):\n",
        "      return True\n",
        "  # Check columns\n",
        "  for col in range(3):\n",
        "    if all(board[row][col] == player for row in range(3)):\n",
        "      return True\n",
        "  # Check diagonals\n",
        "  if (board[0][0] == player and board[1][1] == player and board[2][2] == player) or \\\n",
        "     (board[0][2] == player and board[1][1] == player and board[2][0] == player):\n",
        "    return True\n",
        "  return False\n",
        "\n",
        "def check_draw(board):\n",
        "  \"\"\"Checks if the game is a draw.\"\"\"\n",
        "  for row in board:\n",
        "    for cell in row:\n",
        "      if cell == \" \":\n",
        "        return False\n",
        "  return True\n",
        "\n",
        "def get_player_move():\n",
        "  \"\"\"Gets valid player move input.\"\"\"\n",
        "  while True:\n",
        "    try:\n",
        "      row = int(input(\"Enter row (1-3): \")) - 1\n",
        "      col = int(input(\"Enter column (1-3): \")) - 1\n",
        "      if 0 <= row <= 2 and 0 <= col <= 2:\n",
        "        return row, col\n",
        "      else:\n",
        "        print(\"Invalid move. Row and column must be between 1 and 3.\")\n",
        "    except ValueError:\n",
        "      print(\"Invalid input. Please enter numbers.\")\n",
        "\n",
        "def play_tic_tac_toe():\n",
        "  \"\"\"Main function to play the game.\"\"\"\n",
        "  board = [[\" \" for _ in range(3)] for _ in range(3)]\n",
        "  current_player = \"X\"\n",
        "\n",
        "  while True:\n",
        "    print_board(board)\n",
        "    print(f\"Player {current_player}'s turn.\")\n",
        "    row, col = get_player_move()\n",
        "\n",
        "    if board[row][col] == \" \":\n",
        "      board[row][col] = current_player\n",
        "      if check_win(board, current_player):\n",
        "        print_board(board)\n",
        "        print(f\"Player {current_player} wins!\")\n",
        "        break\n",
        "      elif check_draw(board):\n",
        "        print_board(board)\n",
        "        print(\"It's a draw!\")\n",
        "        break\n",
        "      else:\n",
        "        current_player = \"O\" if current_player == \"X\" else \"X\"\n",
        "    else:\n",
        "      print(\"That space is already occupied. Try again.\")\n",
        "\n",
        "if __name__ == \"__main__\":\n",
        "  play_tic_tac_toe()\n"
      ],
      "metadata": {
        "id": "3IjtKKSI2u8_"
      },
      "execution_count": null,
      "outputs": []
    },
    {
      "cell_type": "code",
      "source": [
        "\n",
        "# prompt: generate CHATBOT WITH RULE-BASED\n",
        "# RESPONSES\n",
        "\n",
        "import numpy as np\n",
        "\n",
        "rand_nums = np.random.rand(10)\n",
        "print(rand_nums)\n",
        "\n",
        "def chatbot():\n",
        "  print(\"Hi, I'm a chatbot. How can I help you?\")\n",
        "  while True:\n",
        "    user_input = input(\"> \")\n",
        "    if user_input.lower() == \"quit\":\n",
        "      break\n",
        "    elif \"hello\" in user_input.lower():\n",
        "      print(\"hello there\")\n",
        "    elif \"how are you\" in user_input.lower():\n",
        "      print(\"I'm doing well, thanks for asking.\")\n",
        "    elif \"bye\" in user_input.lower():\n",
        "      print(\"Goodbye!\")\n",
        "      break\n",
        "    else:\n",
        "      print(\"I'm not sure I understand. Can you try rephrasing?\")\n",
        "\n",
        "chatbot()\n"
      ],
      "metadata": {
        "id": "XJO18p8M3g0i"
      },
      "execution_count": null,
      "outputs": []
    }
  ]
}